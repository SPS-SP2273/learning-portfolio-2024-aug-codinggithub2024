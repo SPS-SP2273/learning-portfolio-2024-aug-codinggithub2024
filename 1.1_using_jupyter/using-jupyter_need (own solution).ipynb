{
 "cells": [
  {
   "cell_type": "code",
   "execution_count": 1,
   "id": "684da210-280b-454c-bba6-797b34934754",
   "metadata": {},
   "outputs": [
    {
     "name": "stdout",
     "output_type": "stream",
     "text": [
      "Hello World\n"
     ]
    }
   ],
   "source": [
    "print(\"Hello World\")\n",
    "\n"
   ]
  },
  {
   "cell_type": "markdown",
   "id": "bb8dac8b-ba1b-4b13-9c9f-58baa8feb07d",
   "metadata": {},
   "source": [
    "#This is a Start\n",
    "## Next\n",
    "### then\n",
    "#### then\n",
    "##### then\n",
    "\n",
    "\n",
    "The ships *hung in the sky* in much the same way that **bricks don’t.** <sup>1</sup><sub>QUOTE</sub>"
   ]
  },
  {
   "cell_type": "markdown",
   "id": "1ad32408-4b77-4d9b-aa60-005f77310c2e",
   "metadata": {},
   "source": [
    "```python\n",
    "print(\"Hello World!\")\n",
    "```"
   ]
  },
  {
   "cell_type": "markdown",
   "id": "759a0746-bb68-47f1-9d36-25785500ef91",
   "metadata": {},
   "source": [
    "[SP2273 Website](https://sps.nus.edu.sg/sp2273)"
   ]
  },
  {
   "cell_type": "markdown",
   "id": "7ad33d49-b72f-49b8-a166-efdea06a27b5",
   "metadata": {},
   "source": [
    "![](https://nus.edu.sg/images/default-source/base/logo.png)"
   ]
  },
  {
   "cell_type": "markdown",
   "id": "9675b970-f133-4931-9d41-d33be20e47ef",
   "metadata": {},
   "source": [
    "| A    |  B   |    C |\n",
    "| :--- | :--- | :--- |\n",
    "| a1   |  b1  |   c1 |\n",
    "| a2   |  b2  |   c2 |\n",
    "| a3   |  b3  |   c3 |"
   ]
  },
  {
   "cell_type": "markdown",
   "id": "5ea7600d-63bc-4609-b8ae-07366e04d5c5",
   "metadata": {},
   "source": [
    "$\\sqrt{b^2-4ac}$"
   ]
  },
  {
   "cell_type": "markdown",
   "id": "5231a216-688e-46c7-ae77-ef62cebbaefe",
   "metadata": {},
   "source": [
    "$$\n",
    "x = \\dfrac{-b \\pm \\sqrt{b^2-4ac}}{2a}\n",
    "$$"
   ]
  },
  {
   "cell_type": "code",
   "execution_count": null,
   "id": "6bdf71b7-77e1-4026-bac3-be0dfb7154c8",
   "metadata": {},
   "outputs": [],
   "source": []
  },
  {
   "cell_type": "markdown",
   "id": "af954a1d-72f6-4393-9d6d-2cef5774fa2c",
   "metadata": {},
   "source": [
    "1. Master Yoda\n",
    "2. Luke Skywalker\n",
    "3. Anakin Skywalker\n",
    "4. "
   ]
  },
  {
   "cell_type": "markdown",
   "id": "733d894a-ad88-4554-9a7e-a2a26d01c590",
   "metadata": {},
   "source": [
    "- Master Yoda\n",
    "- Luke Skywalker\n",
    "- Anakin Skywalker\n",
    "- "
   ]
  },
  {
   "cell_type": "markdown",
   "id": "7d0755a3-ca76-46fa-b6ba-2d8d7c10ddb2",
   "metadata": {},
   "source": [
    "1. Master Yoda\n",
    "   1. Was a Jedi\n",
    "   "
   ]
  },
  {
   "cell_type": "markdown",
   "id": "792dbb1a-3b8b-4884-9d3a-5633f160684c",
   "metadata": {},
   "source": [
    "1) Master Yoda\n",
    "   - Was a Jedi"
   ]
  }
 ],
 "metadata": {
  "kernelspec": {
   "display_name": "Python 3 (ipykernel)",
   "language": "python",
   "name": "python3"
  },
  "language_info": {
   "codemirror_mode": {
    "name": "ipython",
    "version": 3
   },
   "file_extension": ".py",
   "mimetype": "text/x-python",
   "name": "python",
   "nbconvert_exporter": "python",
   "pygments_lexer": "ipython3",
   "version": "3.12.3"
  }
 },
 "nbformat": 4,
 "nbformat_minor": 5
}
