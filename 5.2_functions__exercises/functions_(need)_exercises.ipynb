{
 "cells": [
  {
   "attachments": {},
   "cell_type": "markdown",
   "id": "123456",
   "metadata": {},
   "source": [
    "<div style=\"text-align:left;font-size:2em\"><span style=\"font-weight:bolder;font-size:1.25em\">SP2273 | Learning Portfolio</span><br><br><span style=\"font-weight:bold;color:darkred\">Functions (Need) Exercises</span></div>"
   ]
  },
  {
   "cell_type": "markdown",
   "id": "daccf0e3-9bd9-421b-ab0f-b04478043341",
   "metadata": {},
   "source": [
    "# Exercise 1\n",
    "This is because as long as the condition in the if statement is not satisfied, python will move on to execute the next line along the same indentation, which in this case is the line `return f'Hello {name}!'`. This effectively serves as having an else statement in this context."
   ]
  },
  {
   "cell_type": "markdown",
   "id": "0ea85bc7-1b74-4a6f-bef4-2f3f9dd44876",
   "metadata": {},
   "source": [
    "# Exercise 2"
   ]
  },
  {
   "cell_type": "code",
   "execution_count": 12,
   "id": "476ecd44-aa5d-4226-8267-17990cde2c72",
   "metadata": {},
   "outputs": [
    {
     "name": "stdout",
     "output_type": "stream",
     "text": [
      "Normal weight\n"
     ]
    }
   ],
   "source": [
    "def calculate_bmi(weight, height):\n",
    "\n",
    "    accepted_types = [int, float]\n",
    "\n",
    "    ##This checks for the validity of input in terms of types\n",
    "    if type(weight) not in accepted_types or type(height) not in accepted_types:\n",
    "        return \"Invalid input!\"\n",
    "    \n",
    "    BMI = weight / (height**2)\n",
    "\n",
    "    if BMI < 18.5:\n",
    "        return \"Underweight\"\n",
    "    elif 18.5 < BMI <= 25:\n",
    "        return \"Normal weight\"\n",
    "    elif 25 < BMI < 30:\n",
    "        return \"Overweight\"\n",
    "    else:\n",
    "        return \"Obese\"\n",
    "\n",
    "print(calculate_bmi(50, 1.5))"
   ]
  },
  {
   "cell_type": "markdown",
   "id": "b565a187-275f-4e1e-a3ac-483b46f20581",
   "metadata": {},
   "source": [
    "# Exercise 3"
   ]
  },
  {
   "cell_type": "code",
   "execution_count": 16,
   "id": "778f19ce-3bc4-47e2-9e25-783335b67157",
   "metadata": {},
   "outputs": [
    {
     "data": {
      "text/plain": [
       "3628800"
      ]
     },
     "execution_count": 16,
     "metadata": {},
     "output_type": "execute_result"
    }
   ],
   "source": [
    "# def factorial(n):\n",
    "#     if n < 0:\n",
    "#         return \"Factorial is undefined for negative numbers!\"\n",
    "#     elif type(n) != int:\n",
    "#         return \"Factorial is undefined for non-integers!\"\n",
    "#     elif n == 0 or n == 1:\n",
    "#         return 1\n",
    "#     else:\n",
    "#         i = 2\n",
    "#         previous_factorial, current_factorial = 1, 1\n",
    "#         while i <= n:\n",
    "#             precious_factorial = current_factorial\n",
    "#             current_factorial *= i\n",
    "#             i += 1\n",
    "#         return current_factorial\n",
    "\n",
    "\n",
    "def factorial(n):\n",
    "    if n < 0:\n",
    "        return \"Factorial is undefined for negative numbers!\"\n",
    "    elif type(n) != int:\n",
    "        return \"Factorial is undefined for non-integers!\"\n",
    "    elif n == 0 or n == 1:\n",
    "        return 1\n",
    "    else:\n",
    "        return n*factorial(n-1) ##Recursive call\n",
    "        \n",
    "#factorial(10)\n",
    "            "
   ]
  }
 ],
 "metadata": {
  "kernelspec": {
   "display_name": "Python 3 (ipykernel)",
   "language": "python",
   "name": "python3"
  },
  "language_info": {
   "codemirror_mode": {
    "name": "ipython",
    "version": 3
   },
   "file_extension": ".py",
   "mimetype": "text/x-python",
   "name": "python",
   "nbconvert_exporter": "python",
   "pygments_lexer": "ipython3",
   "version": "3.12.3"
  },
  "toc": {
   "base_numbering": 1,
   "nav_menu": {},
   "number_sections": true,
   "sideBar": true,
   "skip_h1_title": false,
   "title_cell": "Table of Contents",
   "title_sidebar": "Contents",
   "toc_cell": false,
   "toc_position": {},
   "toc_section_display": true,
   "toc_window_display": false
  },
  "vscode": {
   "interpreter": {
    "hash": "31f2aee4e71d21fbe5cf8b01ff0e069b9275f58929596ceb00d14d90e3e16cd6"
   }
  }
 },
 "nbformat": 4,
 "nbformat_minor": 5
}
