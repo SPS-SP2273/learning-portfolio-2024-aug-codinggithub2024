{
 "cells": [
  {
   "attachments": {},
   "cell_type": "markdown",
   "id": "123456",
   "metadata": {},
   "source": [
    "<div style=\"text-align:left;font-size:2em\"><span style=\"font-weight:bolder;font-size:1.25em\">SP2273 | Learning Portfolio</span><br><br><span style=\"font-weight:bold;color:darkred\">Functions (Good) Exercises</span></div>"
   ]
  },
  {
   "cell_type": "code",
   "execution_count": 8,
   "id": "cd0b9e7a-eeae-44e9-821d-85e8fcfe3af4",
   "metadata": {},
   "outputs": [
    {
     "name": "stdout",
     "output_type": "stream",
     "text": [
      "77.0\n",
      "298.15\n",
      "Invalid target scale!\n"
     ]
    }
   ],
   "source": [
    "def convert_celsius(temperature_celsius, target_scale=\"Fahrenheit\"):\n",
    "    \n",
    "    def fahrenheit(temp_celsius):\n",
    "        return (temp_celsius * 9/5) + 32\n",
    "\n",
    "    def kelvin(temp_celsius):\n",
    "        return temp_celsius + 273.15\n",
    "\n",
    "    if target_scale == \"Fahrenheit\":\n",
    "        return fahrenheit(temperature_celsius)\n",
    "    elif target_scale == \"Kelvin\":\n",
    "        return kelvin(temperature_celsius)\n",
    "    elif target_scale == \"Celsius\":\n",
    "        return temperature_celsius\n",
    "    else:\n",
    "        return \"Invalid target scale!\"\n",
    "\n",
    "print(convert_celsius(25))\n",
    "print(convert_celsius(25, \"Kelvin\"))\n",
    "print(convert_celsius(25, \"Kelvins\"))"
   ]
  },
  {
   "cell_type": "code",
   "execution_count": 7,
   "id": "6cfd3072-4d60-4cb0-9deb-4c56c0000745",
   "metadata": {},
   "outputs": [
    {
     "name": "stdout",
     "output_type": "stream",
     "text": [
      "25.0\n",
      "298.15\n",
      "Invalid target scale!\n",
      "77\n"
     ]
    }
   ],
   "source": [
    "def convert_fahrenheit(temperature_fahrenheit, target_scale=\"Celsius\"):\n",
    "    \n",
    "    def celsius(temp_f):\n",
    "        return (temp_f - 32) * 5/9\n",
    "\n",
    "    def kelvin(temp_f):\n",
    "        return celsius(temp_f) + 273.15\n",
    "\n",
    "    if target_scale == \"Celsius\":\n",
    "        return celsius(temperature_fahrenheit)\n",
    "    elif target_scale == \"Kelvin\":\n",
    "        return kelvin(temperature_fahrenheit)\n",
    "    elif target_scale == \"Fahrenheit\":\n",
    "        return temperature_fahrenheit\n",
    "    else:\n",
    "        return \"Invalid target scale!\"\n",
    "     \n",
    "print(convert_fahrenheit(77))\n",
    "print(convert_fahrenheit(77, \"Kelvin\"))\n",
    "print(convert_fahrenheit(77, \"t\"))\n",
    "print(convert_fahrenheit(77, \"Fahrenheit\"))"
   ]
  },
  {
   "cell_type": "code",
   "execution_count": 9,
   "id": "aeaa9959-b712-4905-a7c7-4d4a4b645cd9",
   "metadata": {},
   "outputs": [
    {
     "name": "stdout",
     "output_type": "stream",
     "text": [
      "77.0\n",
      "298.15\n",
      "25.0\n",
      "298.15\n",
      "25.0\n",
      "77.0\n",
      "Invalid source scale!\n",
      "Invalid target scale!\n"
     ]
    }
   ],
   "source": [
    "def convert_temperature(temperature, source_scale, target_scale):\n",
    "    if source_scale == \"Fahrenheit\":\n",
    "        return convert_fahrenheit(temperature, target_scale)\n",
    "    elif source_scale == \"Celsius\":\n",
    "        return convert_celsius(temperature, target_scale)\n",
    "    elif source_scale == \"Kelvin\":\n",
    "        return convert_celsius(temperature - 273.15, target_scale)\n",
    "    else:\n",
    "        return \"Invalid source scale!\"\n",
    "\n",
    "print(convert_temperature(25, \"Celsius\", \"Fahrenheit\"))\n",
    "print(convert_temperature(25, \"Celsius\", \"Kelvin\"))\n",
    "print(convert_temperature(77, \"Fahrenheit\", \"Celsius\"))\n",
    "print(convert_temperature(77, \"Fahrenheit\", \"Kelvin\"))\n",
    "print(convert_temperature(298.15, \"Kelvin\", \"Celsius\"))\n",
    "print(convert_temperature(298.15, \"Kelvin\", \"Fahrenheit\"))\n",
    "print(convert_temperature(298.15, \"s\", \"s\"))\n",
    "print(convert_temperature(298.15, \"Kelvin\", \"s\"))"
   ]
  }
 ],
 "metadata": {
  "kernelspec": {
   "display_name": "Python 3 (ipykernel)",
   "language": "python",
   "name": "python3"
  },
  "language_info": {
   "codemirror_mode": {
    "name": "ipython",
    "version": 3
   },
   "file_extension": ".py",
   "mimetype": "text/x-python",
   "name": "python",
   "nbconvert_exporter": "python",
   "pygments_lexer": "ipython3",
   "version": "3.12.3"
  },
  "toc": {
   "base_numbering": 1,
   "nav_menu": {},
   "number_sections": true,
   "sideBar": true,
   "skip_h1_title": false,
   "title_cell": "Table of Contents",
   "title_sidebar": "Contents",
   "toc_cell": false,
   "toc_position": {},
   "toc_section_display": true,
   "toc_window_display": false
  },
  "vscode": {
   "interpreter": {
    "hash": "31f2aee4e71d21fbe5cf8b01ff0e069b9275f58929596ceb00d14d90e3e16cd6"
   }
  }
 },
 "nbformat": 4,
 "nbformat_minor": 5
}
