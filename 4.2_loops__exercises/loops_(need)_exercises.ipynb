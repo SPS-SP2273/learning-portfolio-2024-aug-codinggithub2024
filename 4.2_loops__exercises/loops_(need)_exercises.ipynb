{
 "cells": [
  {
   "attachments": {},
   "cell_type": "markdown",
   "id": "123456",
   "metadata": {},
   "source": [
    "<div style=\"text-align:left;font-size:2em\"><span style=\"font-weight:bolder;font-size:1.25em\">SP2273 | Learning Portfolio</span><br><br><span style=\"font-weight:bold;color:darkred\">Loops (Need) Exercises</span></div>"
   ]
  },
  {
   "cell_type": "markdown",
   "id": "115c61a2-a261-4e87-9c9c-64501a90f403",
   "metadata": {},
   "source": [
    "# Exercise 1"
   ]
  },
  {
   "cell_type": "code",
   "execution_count": 1,
   "id": "75ab0081-0a52-48e9-8a5d-132aaafde061",
   "metadata": {},
   "outputs": [
    {
     "data": {
      "text/plain": [
       "[(0, 32.0),\n",
       " (5, 41.0),\n",
       " (10, 50.0),\n",
       " (15, 59.0),\n",
       " (20, 68.0),\n",
       " (25, 77.0),\n",
       " (30, 86.0),\n",
       " (35, 95.0),\n",
       " (40, 104.0),\n",
       " (45, 113.0),\n",
       " (50, 122.0)]"
      ]
     },
     "execution_count": 1,
     "metadata": {},
     "output_type": "execute_result"
    }
   ],
   "source": [
    "def celsius_to_fahrenheit(celsius_lst):\n",
    "    output = []\n",
    "    for temp in celsius_lst:\n",
    "        # (0°C × 9/5) + 32 = 32°F\n",
    "        output.append((temp, (temp*9/5) + 32))\n",
    "    return output\n",
    "\n",
    "temperatures_celsius = [\n",
    "    0, 5, 10, 15, 20, 25,\n",
    "    30, 35, 40, 45, 50\n",
    "]\n",
    "\n",
    "celsius_to_fahrenheit(temperatures_celsius)"
   ]
  },
  {
   "cell_type": "markdown",
   "id": "304974db-8b6f-4ada-89f8-7d1cfb6b0568",
   "metadata": {},
   "source": [
    "# Exercise 2"
   ]
  },
  {
   "cell_type": "code",
   "execution_count": 22,
   "id": "ba432375-5e2f-421a-a2e2-de2afdc2e4c7",
   "metadata": {},
   "outputs": [
    {
     "name": "stdout",
     "output_type": "stream",
     "text": [
      "1 \t:\t1\t2\t3\t4\t5\t\n",
      "\n",
      "2 \t:\t2\t4\t6\t8\t10\t\n",
      "\n",
      "3 \t:\t3\t6\t9\t12\t15\t\n",
      "\n",
      "4 \t:\t4\t8\t12\t16\t20\t\n",
      "\n",
      "5 \t:\t5\t10\t15\t20\t25\t\n",
      "\n"
     ]
    }
   ],
   "source": [
    "def multiplication_table(rows, columns): ##rows refer to the number of rows to be printed\n",
    "                                         ##while columns refers to the number of columns \n",
    "                                         ##to be printed.\n",
    "    row_lst = [i for i in range(1, rows+1)]\n",
    "    column_lst = [i for i in range(1, columns+1)]\n",
    "\n",
    "    for row in row_lst:\n",
    "        print(f'{row} \\t:', end= '\\t')\n",
    "        for column in column_lst:\n",
    "            print(f'{row*column}', end= '\\t')\n",
    "        print('\\n')\n",
    "    # print(line_lst)\n",
    "    # print(table_lst)\n",
    "\n",
    "multiplication_table(5, 5)"
   ]
  },
  {
   "cell_type": "markdown",
   "id": "7cca0376-b177-4a41-a27c-5e5d31c15f1d",
   "metadata": {},
   "source": [
    "# Exercise 3"
   ]
  },
  {
   "cell_type": "code",
   "execution_count": 37,
   "id": "34799afc-3aa7-4d93-a7d5-4207300d0a42",
   "metadata": {},
   "outputs": [
    {
     "name": "stdout",
     "output_type": "stream",
     "text": [
      "Experiment 1: No. of Heads = 6\n",
      "Experiment 2: No. of Heads = 7\n",
      "Experiment 3: No. of Heads = 4\n",
      "Experiment 4: No. of Heads = 4\n",
      "Experiment 5: No. of Heads = 6\n",
      "Experiment 6: No. of Heads = 6\n",
      "Experiment 7: No. of Heads = 5\n",
      "Experiment 8: No. of Heads = 6\n",
      "Experiment 9: No. of Heads = 5\n",
      "Experiment 10: No. of Heads = 4\n",
      "\n"
     ]
    }
   ],
   "source": [
    "import numpy as np\n",
    "def experiment(number): ##number refers to the number of times\n",
    "                        ##the experiment is ran.\n",
    "    output = ''\n",
    "    head = 0.5 ##Since values equal to and greater than 0.5 is considered heads.\n",
    "               ##The reason this is defined here is so as to not hard-code the \n",
    "               ##value into the algorithm as part of good coding practice.\n",
    "    for i in range(number):\n",
    "        test_lst = np.random.rand(10)\n",
    "        mask = test_lst >= head\n",
    "        #print(mask)\n",
    "        total_heads = sum(mask)\n",
    "        output += f'Experiment {i+1}: No. of Heads = {total_heads}\\n'\n",
    "    print(output)\n",
    "        \n",
    "experiment(10)"
   ]
  }
 ],
 "metadata": {
  "kernelspec": {
   "display_name": "Python 3 (ipykernel)",
   "language": "python",
   "name": "python3"
  },
  "language_info": {
   "codemirror_mode": {
    "name": "ipython",
    "version": 3
   },
   "file_extension": ".py",
   "mimetype": "text/x-python",
   "name": "python",
   "nbconvert_exporter": "python",
   "pygments_lexer": "ipython3",
   "version": "3.12.3"
  },
  "toc": {
   "base_numbering": 1,
   "nav_menu": {},
   "number_sections": true,
   "sideBar": true,
   "skip_h1_title": false,
   "title_cell": "Table of Contents",
   "title_sidebar": "Contents",
   "toc_cell": false,
   "toc_position": {},
   "toc_section_display": true,
   "toc_window_display": false
  },
  "vscode": {
   "interpreter": {
    "hash": "31f2aee4e71d21fbe5cf8b01ff0e069b9275f58929596ceb00d14d90e3e16cd6"
   }
  }
 },
 "nbformat": 4,
 "nbformat_minor": 5
}
