{
 "cells": [
  {
   "attachments": {},
   "cell_type": "markdown",
   "id": "123456",
   "metadata": {},
   "source": [
    "<div style=\"text-align:left;font-size:2em\"><span style=\"font-weight:bolder;font-size:1.25em\">SP2273 | Learning Portfolio</span><br><br><span style=\"font-weight:bold;color:darkred\">Loops (Good) Exercises</span></div>"
   ]
  },
  {
   "cell_type": "markdown",
   "id": "0322e9b5-3ff8-4c80-8b4f-32753aacd1e5",
   "metadata": {},
   "source": [
    "# Exercise 1"
   ]
  },
  {
   "cell_type": "code",
   "execution_count": 2,
   "id": "0e6efc4d-6d52-4a14-bdc1-bf4f3549099b",
   "metadata": {},
   "outputs": [
    {
     "name": "stdout",
     "output_type": "stream",
     "text": [
      "[1, 9, 25, 49, 81]\n"
     ]
    }
   ],
   "source": [
    "def squares_of_odd_int(number):\n",
    "    output = []\n",
    "    for i in range(number):\n",
    "        if i %2 == 0:\n",
    "            continue\n",
    "        output.append(i**2)\n",
    "    return output\n",
    "\n",
    "print(squares_of_odd_int(10))"
   ]
  },
  {
   "cell_type": "markdown",
   "id": "6f104ca6-42db-4e50-adb6-43f230849a1c",
   "metadata": {},
   "source": [
    "# Exercise 2"
   ]
  },
  {
   "cell_type": "code",
   "execution_count": 6,
   "id": "a32b144b-ffef-444b-ac08-67c625645082",
   "metadata": {},
   "outputs": [
    {
     "name": "stdout",
     "output_type": "stream",
     "text": [
      "[1, 9, 25, 49, 81]\n"
     ]
    }
   ],
   "source": [
    "def squares_of_odd_int_alt(number):\n",
    "    return [i**2 for i in range(number) if i % 2 != 0]\n",
    "\n",
    "print(squares_of_odd_int_alt(10))\n"
   ]
  },
  {
   "cell_type": "markdown",
   "id": "22cb184d-10ab-4d75-9679-b600135813c1",
   "metadata": {},
   "source": [
    "# Exercise 3"
   ]
  },
  {
   "cell_type": "code",
   "execution_count": 8,
   "id": "5c5c73db-e0d5-4cb4-97c5-af22a6088ab0",
   "metadata": {},
   "outputs": [
    {
     "name": "stdout",
     "output_type": "stream",
     "text": [
      "1 μs ± 14.1 ns per loop (mean ± std. dev. of 7 runs, 1,000,000 loops each)\n"
     ]
    }
   ],
   "source": [
    "%%timeit\n",
    "squares_of_odd_int(10)"
   ]
  },
  {
   "cell_type": "code",
   "execution_count": 9,
   "id": "d8552386-8923-4035-8b10-4dae7b0b39f8",
   "metadata": {},
   "outputs": [
    {
     "name": "stdout",
     "output_type": "stream",
     "text": [
      "911 ns ± 9.1 ns per loop (mean ± std. dev. of 7 runs, 1,000,000 loops each)\n"
     ]
    }
   ],
   "source": [
    "%%timeit\n",
    "squares_of_odd_int_alt(10)"
   ]
  },
  {
   "cell_type": "markdown",
   "id": "58261e04-f1af-4f2a-9890-cfbadc49253c",
   "metadata": {},
   "source": [
    "The second method executed using list comprehension is faster. This is because in the second method, the intepreter has to intepret and then execute less lines even though they both do the same job essentially. Hence the difference in time."
   ]
  },
  {
   "cell_type": "markdown",
   "id": "6cdce0d1-ca54-4231-8000-a764a730ed8c",
   "metadata": {},
   "source": [
    "# Exercise 4"
   ]
  },
  {
   "cell_type": "code",
   "execution_count": 12,
   "id": "25e16c83-456e-4962-8516-1725200afddb",
   "metadata": {},
   "outputs": [
    {
     "name": "stdout",
     "output_type": "stream",
     "text": [
      "It takes 14 years for the sample to reduce to half its original amount.\n"
     ]
    }
   ],
   "source": [
    "def time_taken_for_decay(rate_of_decay): ##Note: rate of decay is to be entered directly \n",
    "                                         ##but without the percentage sign. 1% decay s\n",
    "                                         ##should be inputed as 1 into the function here.\n",
    "    time = 0\n",
    "    quantity_of_sample = 100\n",
    "    percentage_remaining = (100-rate_of_decay)/100\n",
    "    while quantity_of_sample >= 50:\n",
    "        quantity_of_sample *= percentage_remaining\n",
    "        time += 1\n",
    "    print(f'It takes {time} years for the sample to reduce to half its original amount.')\n",
    "\n",
    "time_taken_for_decay(5)"
   ]
  },
  {
   "cell_type": "markdown",
   "id": "7ff7caf6-0d8e-478f-8963-7651f3800576",
   "metadata": {},
   "source": [
    "# Exercise 5\n"
   ]
  },
  {
   "cell_type": "code",
   "execution_count": 36,
   "id": "fbfdc623-a5d5-46db-9a13-4c59a31dcd82",
   "metadata": {},
   "outputs": [
    {
     "name": "stdout",
     "output_type": "stream",
     "text": [
      "[(2016, 3.41)]\n"
     ]
    }
   ],
   "source": [
    "co2_data = [\n",
    "    (2000, 369.55), (2001, 371.14), (2002, 373.28), \n",
    "    (2003, 375.80), (2004, 377.52), (2005, 379.80), \n",
    "    (2006, 381.90), (2007, 383.79), (2008, 385.60), \n",
    "    (2009, 387.43), (2010, 389.90), (2011, 391.65), \n",
    "    (2012, 393.85), (2013, 396.52), (2014, 398.65),\n",
    "    (2015, 400.83), (2016, 404.24), (2017, 406.55), \n",
    "    (2018, 408.52), (2019, 411.44), (2020, 414.24)\n",
    "]\n",
    "\n",
    "def difference_in_increase(data, increase):\n",
    "    first_year = data[0][0] ##This refers to the first year of data.\n",
    "    output = []\n",
    "    length = len(data)\n",
    "\n",
    "    for year, concentration in data:\n",
    "        if (year, concentration) == data[-1]:\n",
    "            break\n",
    "\n",
    "        actual_increase = round(data[year+1-first_year][1] - concentration, 2)\n",
    "        if actual_increase > increase:\n",
    "            output.append((year+1, actual_increase))\n",
    "        # print(output)\n",
    "    return output\n",
    "\n",
    "print(difference_in_increase(co2_data, 3))"
   ]
  },
  {
   "cell_type": "code",
   "execution_count": 3,
   "id": "3f16377a-aa1e-4f9a-bc1e-ce90ba69061a",
   "metadata": {},
   "outputs": [
    {
     "name": "stdout",
     "output_type": "stream",
     "text": [
      "Data Error\n"
     ]
    }
   ],
   "source": [
    "co2_data_modified = [\n",
    "    (2021, 369.55), (2001, 371.14), (2002, 373.28), \n",
    "    (2003, 375.80), (2004, 377.52), (2005, 379.80), \n",
    "    (2006, 381.90), (2007, 383.79), (2008, 385.60), \n",
    "    (2009, 387.43), (2010, 389.90), (2011, 391.65), \n",
    "    (2012, 393.85), (2013, 396.52), (2014, 398.65),\n",
    "    (2015, 400.83), (2016, 404.24), (2017, 406.55), \n",
    "    (2018, 408.52), (2019, 411.44), (2020, 414.24)\n",
    "]\n",
    "\n",
    "def difference_in_increase_2(data, increase):\n",
    "\n",
    "    length = len(data)\n",
    "    for i in range(len(data)-1):\n",
    "        current_year = data[i][0]\n",
    "        next_year = data[i+1][0]\n",
    "        if next_year - current_year != 1:\n",
    "            return \"Data Error\"\n",
    "        \n",
    "        \n",
    "    first_year = data[0][0] ##This refers to the first year of data.\n",
    "    output = []\n",
    "    \n",
    "\n",
    "    for year, concentration in data:\n",
    "        if (year, concentration) == data[-1]:\n",
    "            break\n",
    "\n",
    "        actual_increase = round(data[year+1-first_year][1] - concentration, 2)\n",
    "        if actual_increase > increase:\n",
    "            output.append((year+1, actual_increase))\n",
    "        # print(output)\n",
    "    return output\n",
    "\n",
    "print(difference_in_increase_2(co2_data_modified, 3))"
   ]
  },
  {
   "cell_type": "code",
   "execution_count": 6,
   "id": "3090a450-154a-4e37-aa00-434a6376fb9f",
   "metadata": {},
   "outputs": [
    {
     "name": "stdout",
     "output_type": "stream",
     "text": [
      "[(2016, 3.41)]\n"
     ]
    }
   ],
   "source": [
    "co2_data_modified = [\n",
    "    (2021, 369.55), (2001, 371.14), (2002, 373.28), \n",
    "    (2003, 375.80), (2004, 377.52), (2005, 379.80), \n",
    "    (2006, 381.90), (2007, 383.79), (2008, 385.60), \n",
    "    (2009, 387.43), (2010, 389.90), (2011, 391.65), \n",
    "    (2012, 393.85), (2013, 396.52), (2014, 398.65),\n",
    "    (2015, 400.83), (2016, 404.24), (2017, 406.55), \n",
    "    (2018, 408.52), (2019, 411.44), (2020, 414.24)\n",
    "]\n",
    "\n",
    "def difference_in_increase_3(data, increase):\n",
    "\n",
    "    sorted_data = sorted(data, key = lambda x: x[0])\n",
    "    #print(sorted_data)\n",
    "    \n",
    "    length = len(data)        \n",
    "    first_year = data[0][0] ##This refers to the first year of data.\n",
    "    output = []\n",
    "    \n",
    "\n",
    "    for year, concentration in data:\n",
    "        if (year, concentration) == data[-1]:\n",
    "            break\n",
    "\n",
    "        actual_increase = round(data[year+1-first_year][1] - concentration, 2)\n",
    "        if actual_increase > increase:\n",
    "            output.append((year+1, actual_increase))\n",
    "        # print(output)\n",
    "    return output\n",
    "\n",
    "print(difference_in_increase_3(co2_data_modified, 3))"
   ]
  }
 ],
 "metadata": {
  "kernelspec": {
   "display_name": "Python 3 (ipykernel)",
   "language": "python",
   "name": "python3"
  },
  "language_info": {
   "codemirror_mode": {
    "name": "ipython",
    "version": 3
   },
   "file_extension": ".py",
   "mimetype": "text/x-python",
   "name": "python",
   "nbconvert_exporter": "python",
   "pygments_lexer": "ipython3",
   "version": "3.12.3"
  },
  "toc": {
   "base_numbering": 1,
   "nav_menu": {},
   "number_sections": true,
   "sideBar": true,
   "skip_h1_title": false,
   "title_cell": "Table of Contents",
   "title_sidebar": "Contents",
   "toc_cell": false,
   "toc_position": {},
   "toc_section_display": true,
   "toc_window_display": false
  },
  "vscode": {
   "interpreter": {
    "hash": "31f2aee4e71d21fbe5cf8b01ff0e069b9275f58929596ceb00d14d90e3e16cd6"
   }
  }
 },
 "nbformat": 4,
 "nbformat_minor": 5
}
