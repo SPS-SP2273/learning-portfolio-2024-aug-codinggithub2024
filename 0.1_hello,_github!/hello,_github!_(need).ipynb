{
 "cells": [
  {
   "attachments": {},
   "cell_type": "markdown",
   "id": "123456",
   "metadata": {},
   "source": [
    "<div style=\"text-align:left;font-size:2em\"><span style=\"font-weight:bolder;font-size:1.25em\">SP2273 | Learning Portfolio</span><br><br><span style=\"font-weight:bold;color:darkred\">Hello, GitHub! (Need)</span></div>"
   ]
  },
  {
   "attachments": {},
   "cell_type": "markdown",
   "id": "3dc5fe2d",
   "metadata": {},
   "source": [
    "# Setting up GitHub Classroom"
   ]
  },
  {
   "attachments": {},
   "cell_type": "markdown",
   "id": "cb7d7168",
   "metadata": {},
   "source": [
    "### Create an account with GitHub"
   ]
  },
  {
   "cell_type": "code",
   "execution_count": null,
   "id": "51219540",
   "metadata": {},
   "outputs": [],
   "source": [
    "\n",
    "# Your code here\n",
    "#test"
   ]
  },
  {
   "attachments": {},
   "cell_type": "markdown",
   "id": "d4f77c6a",
   "metadata": {},
   "source": [
    "### Link to 73 GitHub Classroom"
   ]
  },
  {
   "cell_type": "code",
   "execution_count": null,
   "id": "3e7cc1ff",
   "metadata": {},
   "outputs": [],
   "source": [
    "\n",
    "# Your code here\n"
   ]
  },
  {
   "attachments": {},
   "cell_type": "markdown",
   "id": "07457ec8",
   "metadata": {},
   "source": [
    "### Enabling ReviewNB"
   ]
  },
  {
   "cell_type": "code",
   "execution_count": null,
   "id": "730a52fc",
   "metadata": {},
   "outputs": [],
   "source": [
    "\n",
    "# Your code here\n"
   ]
  },
  {
   "attachments": {},
   "cell_type": "markdown",
   "id": "13cfa282",
   "metadata": {},
   "source": [
    "### Setting up your local environment with GitHub Desktop"
   ]
  },
  {
   "cell_type": "code",
   "execution_count": null,
   "id": "a9f0fe96",
   "metadata": {},
   "outputs": [],
   "source": [
    "\n",
    "# Your code here\n"
   ]
  },
  {
   "attachments": {},
   "cell_type": "markdown",
   "id": "a86ba340",
   "metadata": {},
   "source": [
    "# Using Git & GitHub"
   ]
  },
  {
   "attachments": {},
   "cell_type": "markdown",
   "id": "6859aad3",
   "metadata": {},
   "source": [
    "### Recording changes with GitHub"
   ]
  },
  {
   "cell_type": "code",
   "execution_count": null,
   "id": "d5814328",
   "metadata": {},
   "outputs": [],
   "source": [
    "\n",
    "# Your code here\n"
   ]
  },
  {
   "attachments": {},
   "cell_type": "markdown",
   "id": "7f6fa97d",
   "metadata": {},
   "source": [
    "### Pushing Changes to GitHub"
   ]
  },
  {
   "cell_type": "code",
   "execution_count": null,
   "id": "4f70f024",
   "metadata": {},
   "outputs": [],
   "source": [
    "\n",
    "# Your code here\n"
   ]
  },
  {
   "attachments": {},
   "cell_type": "markdown",
   "id": "40e23886",
   "metadata": {},
   "source": [
    "### Pulling Changes from GitHub"
   ]
  },
  {
   "cell_type": "code",
   "execution_count": null,
   "id": "146cbf9e",
   "metadata": {},
   "outputs": [],
   "source": [
    "\n",
    "# Your code here\n"
   ]
  },
  {
   "attachments": {},
   "cell_type": "markdown",
   "id": "519f5e4a",
   "metadata": {},
   "source": [
    "## Footnotes"
   ]
  }
 ],
 "metadata": {
  "kernelspec": {
   "display_name": "Python 3 (ipykernel)",
   "language": "python",
   "name": "python3"
  },
  "language_info": {
   "codemirror_mode": {
    "name": "ipython",
    "version": 3
   },
   "file_extension": ".py",
   "mimetype": "text/x-python",
   "name": "python",
   "nbconvert_exporter": "python",
   "pygments_lexer": "ipython3",
   "version": "3.12.3"
  },
  "toc": {
   "base_numbering": 1,
   "nav_menu": {},
   "number_sections": true,
   "sideBar": true,
   "skip_h1_title": false,
   "title_cell": "Table of Contents",
   "title_sidebar": "Contents",
   "toc_cell": false,
   "toc_position": {},
   "toc_section_display": true,
   "toc_window_display": false
  },
  "vscode": {
   "interpreter": {
    "hash": "31f2aee4e71d21fbe5cf8b01ff0e069b9275f58929596ceb00d14d90e3e16cd6"
   }
  }
 },
 "nbformat": 4,
 "nbformat_minor": 5
}
