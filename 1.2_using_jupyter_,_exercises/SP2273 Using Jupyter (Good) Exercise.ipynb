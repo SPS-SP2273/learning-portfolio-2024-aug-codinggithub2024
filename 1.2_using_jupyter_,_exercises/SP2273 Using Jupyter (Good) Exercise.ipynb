{
 "cells": [
  {
   "cell_type": "code",
   "execution_count": null,
   "id": "d0c6800f-6a6b-4461-815f-459ed589581b",
   "metadata": {},
   "outputs": [],
   "source": [
    "while True:\n",
    "    print('*', end = '')"
   ]
  },
  {
   "cell_type": "code",
   "execution_count": null,
   "id": "9384c364-414f-426e-9bb5-f01876554590",
   "metadata": {},
   "outputs": [],
   "source": [
    "print = 'PRINT'\n",
    "print(\"Hello World\")\n",
    "      "
   ]
  },
  {
   "cell_type": "code",
   "execution_count": 21,
   "id": "54bd78b2-d652-4e70-a729-03c258fa5da9",
   "metadata": {},
   "outputs": [
    {
     "name": "stdout",
     "output_type": "stream",
     "text": [
      "1.05 μs ± 40.3 ns per loop (mean ± std. dev. of 7 runs, 1,000,000 loops each)\n"
     ]
    }
   ],
   "source": [
    "%%timeit #-n1000\n",
    "squares = [i**2 for i in range(10)]"
   ]
  },
  {
   "cell_type": "markdown",
   "id": "51dd6b62-f37e-4895-86e5-90ca5c3fc6c6",
   "metadata": {},
   "source": [
    "#### Analysis\n",
    "Both codes run on O(n) time complexity, where n = 10 in this case. However, in the first block of code here, the constant in front of the time complexity is smaller (ie this is faster in absolute time) because only one list is created and the list is directly created with the for loop contained within this one list."
   ]
  },
  {
   "cell_type": "code",
   "execution_count": 18,
   "id": "2e7d09a9-702c-463c-8c08-000b41afae1b",
   "metadata": {},
   "outputs": [
    {
     "name": "stdout",
     "output_type": "stream",
     "text": [
      "1.33 μs ± 104 ns per loop (mean ± std. dev. of 7 runs, 1,000,000 loops each)\n"
     ]
    }
   ],
   "source": [
    "%%timeit\n",
    "squares2 = list()\n",
    "for i in range(10):\n",
    "    squares2.append(i**2)"
   ]
  },
  {
   "cell_type": "code",
   "execution_count": 19,
   "id": "0337d16b-7d36-47c0-b697-ff974910953c",
   "metadata": {},
   "outputs": [
    {
     "name": "stdout",
     "output_type": "stream",
     "text": [
      "[0, 1, 4, 9, 16, 25, 36, 49, 64, 81]\n",
      "[0, 1, 4, 9, 16, 25, 36, 49, 64, 81]\n"
     ]
    }
   ],
   "source": [
    "squares = [i**2 for i in range(10)]\n",
    "squares2 = list()\n",
    "for i in range(10):\n",
    "    squares2.append(i**2)\n",
    "print(squares)\n",
    "print(squares2)"
   ]
  },
  {
   "cell_type": "markdown",
   "id": "ff2ea59f-bf85-4318-ae04-f90c8de79769",
   "metadata": {},
   "source": [
    "#### Analysis\n",
    "However, for the second block of code, for every iteration of the for loop, there is a need for the intepreter to create a new temporary list with the new number to be appended before it can be added to the original list. This will be slightly slower and hence takes a longer time for the code to be completely executed, even though both give the same end resutlt"
   ]
  }
 ],
 "metadata": {
  "kernelspec": {
   "display_name": "Python 3 (ipykernel)",
   "language": "python",
   "name": "python3"
  },
  "language_info": {
   "codemirror_mode": {
    "name": "ipython",
    "version": 3
   },
   "file_extension": ".py",
   "mimetype": "text/x-python",
   "name": "python",
   "nbconvert_exporter": "python",
   "pygments_lexer": "ipython3",
   "version": "3.12.3"
  }
 },
 "nbformat": 4,
 "nbformat_minor": 5
}
