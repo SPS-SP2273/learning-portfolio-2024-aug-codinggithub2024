{
 "cells": [
  {
   "cell_type": "markdown",
   "id": "de818e79-19ec-46b4-8770-bd8f057adf2c",
   "metadata": {},
   "source": [
    "# **Exercise 1**"
   ]
  },
  {
   "cell_type": "markdown",
   "id": "002399f1-15e1-4eaa-822a-eeb8b09b62fb",
   "metadata": {},
   "source": [
    "# 1 Quadratic Equations\n",
    "## Introdction\n",
    "![](https://upload.wikimedia.org/wikipedia/commons/thumb/f/f8/Polynomialdeg2.svg/450px-Polynomialdeg2.svg.png)\n",
    "\n",
    "(*Image from the [Wikipedia page on Quadratic equations](https://en.wikipedia.org/wiki/Quadratic_equation)*)\n",
    "\n",
    "The general form of a quadratic equation is:\n",
    "$$\n",
    "ax^{2} + bx + c = 0\n",
    "$$\n",
    "\n",
    "## Solutions\n",
    "Provided $a \\ne 0$, we can use an elementary algebraic method called [completing the square](https://en.wikipedia.org/wiki/Completing_the_square) to show that a quadratic equation has the following solution:\n",
    "$$\n",
    "x = \\dfrac{-b \\pm \\sqrt{b^{2}-4ac}}{2a}\n",
    "$$\n",
    "\n",
    "## Discriminant\n",
    "The quantity $ \\Delta = b^{2} - 4ac$ is called the **discriminant** of the equation and decides the nature of its solutions. The table below shows the various possibilities.\n",
    "\n",
    "| **Discriminant** | **Roots** |\n",
    "| :--:             |  :---     |\n",
    "|$ \\Delta = b^{2} - 4ac = 0$| A single solution of $-b/(2a)$ |\n",
    "|$ \\Delta = b^{2} - 4ac > 0$| Two distinct solutions |\n",
    "|$ \\Delta = b^{2} - 4ac < 0$| No real solutions; both are complex. |"
   ]
  },
  {
   "cell_type": "code",
   "execution_count": null,
   "id": "4081ce70-a232-4d38-a677-f6cfd124dfb7",
   "metadata": {},
   "outputs": [],
   "source": []
  },
  {
   "cell_type": "markdown",
   "id": "fc440b7d-cbdd-4c5b-8c06-cdfcb00e95ed",
   "metadata": {},
   "source": [
    "# **Exercise 2**\n"
   ]
  },
  {
   "cell_type": "markdown",
   "id": "e0f5748c-db11-4bc5-9a81-51e80cada34d",
   "metadata": {},
   "source": [
    "#### 1.What is a Git repository?\n",
    "A Git repository is a repository that tracks all the changes made to files within a project. \n",
    "\n",
    "#### 2. Git keeps track of __________________ in the files in our repository.\n",
    "History\n",
    "\n",
    "#### 3. What is a **commit**?\n",
    "A commit is the process of submitting changes made to a code repository\n",
    "\n",
    "#### 4. What is a **push**?\n",
    "A push is when we update the changes that we have made on the file locally to that of a cloud-based system (like GitHub) so that other people are able to review the latest update in the file.\n",
    "\n",
    "#### 5. What is a **pull**?\n",
    "A pull is when we update any changes that has been made on the cloud-based system (like GitHub) such that our local copy has the latest version of whatever that is on GitHub/\n",
    "\n",
    "#### 6. What is the difference between **GitHub** and **GitHub Desktop**?\n",
    "GitHub is a cloud-based storage system that allows for sharing of files with other users. GitHub Desktop, however, stores files within the computer such that it is only available for the individual user. Any changes made on the Desktop must be committed and pushed before they can be viewed by others via GitHub."
   ]
  },
  {
   "cell_type": "code",
   "execution_count": null,
   "id": "9b70f980-95c3-44d5-8d04-6a539fbe3c87",
   "metadata": {},
   "outputs": [],
   "source": []
  },
  {
   "cell_type": "markdown",
   "id": "b4e255b9-c88e-4ce4-bff6-acfbc0e83490",
   "metadata": {},
   "source": [
    "# Exercise 3\n",
    "### Definitions\n",
    "$ \\mu$ = mean\n",
    "\n",
    "$ \\sigma$ = standard deviation\n",
    "\n",
    "$ r $ = Pearson correlation coefficient\n",
    "\n",
    "Variables $x_{i}$ and $y_{i} $ = _i_-th values in a data set with _n_ pairs\n",
    "\n",
    "$$\n",
    "\\mu = \\frac{1}{n} \\sum_ {i = 1}^{n} x_{i}     \n",
    "$$\n",
    "$$\n",
    "\\sigma = \\sqrt{\\frac{1}{n} \\sum_ {i = 1}^{n} (x_{i}- \\mu)^{2}}\n",
    "$$\n",
    "$$\n",
    "r = \\frac{\\sum_{i=1}^{n} (x_{i} - \\mu X)(y_{i} - \\mu Y)}{\\sqrt{\\sum_{i = 1}^{n} (x_{i}- \\mu X)^2 \\sum_{i=1}^{n} (y_{i} - \\mu Y)^2}}\n",
    "$$"
   ]
  }
 ],
 "metadata": {
  "kernelspec": {
   "display_name": "Python 3 (ipykernel)",
   "language": "python",
   "name": "python3"
  },
  "language_info": {
   "codemirror_mode": {
    "name": "ipython",
    "version": 3
   },
   "file_extension": ".py",
   "mimetype": "text/x-python",
   "name": "python",
   "nbconvert_exporter": "python",
   "pygments_lexer": "ipython3",
   "version": "3.12.3"
  }
 },
 "nbformat": 4,
 "nbformat_minor": 5
}
