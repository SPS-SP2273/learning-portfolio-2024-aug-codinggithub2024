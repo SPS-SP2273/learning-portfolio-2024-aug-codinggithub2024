{
 "cells": [
  {
   "cell_type": "code",
   "execution_count": 3,
   "id": "04eb4f36-86d3-4e40-adae-27aa0173791c",
   "metadata": {},
   "outputs": [
    {
     "data": {
      "text/plain": [
       "'codinggithub24'"
      ]
     },
     "execution_count": 3,
     "metadata": {},
     "output_type": "execute_result"
    }
   ],
   "source": [
    "from self_defined_func import *\n",
    "name = Name(\"codinggithub24\")\n",
    "name.name"
   ]
  },
  {
   "cell_type": "code",
   "execution_count": 4,
   "id": "85e940c8-f258-497d-bbab-1667389c99a5",
   "metadata": {},
   "outputs": [
    {
     "data": {
      "text/plain": [
       "True"
      ]
     },
     "execution_count": 4,
     "metadata": {},
     "output_type": "execute_result"
    }
   ],
   "source": [
    "is_leap_year(2024)"
   ]
  }
 ],
 "metadata": {
  "kernelspec": {
   "display_name": "Python 3 (ipykernel)",
   "language": "python",
   "name": "python3"
  },
  "language_info": {
   "codemirror_mode": {
    "name": "ipython",
    "version": 3
   },
   "file_extension": ".py",
   "mimetype": "text/x-python",
   "name": "python",
   "nbconvert_exporter": "python",
   "pygments_lexer": "ipython3",
   "version": "3.12.3"
  }
 },
 "nbformat": 4,
 "nbformat_minor": 5
}
