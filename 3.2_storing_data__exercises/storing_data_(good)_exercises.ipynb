{
 "cells": [
  {
   "attachments": {},
   "cell_type": "markdown",
   "id": "123456",
   "metadata": {},
   "source": [
    "<div style=\"text-align:left;font-size:2em\"><span style=\"font-weight:bolder;font-size:1.25em\">SP2273 | Learning Portfolio</span><br><br><span style=\"font-weight:bold;color:darkred\">Storing Data (Good) Exercises</span></div>"
   ]
  },
  {
   "cell_type": "markdown",
   "id": "64efb938-4462-46a1-920d-ceea0d5130ac",
   "metadata": {},
   "source": [
    "# Exercise 1"
   ]
  },
  {
   "cell_type": "markdown",
   "id": "9329eb43-2e24-426f-8a45-db73a363ae83",
   "metadata": {},
   "source": [
    "|__Term__|__Brief Description__|\n",
    "|:--:|:--:|\n",
    "|Subsetting|Selecting the value(s) within a data structure|\n",
    "|Indexing|Referring to the selection of a value at the specified position within a data structure|\n",
    "|Slicing|Referring to the selection of values at the specified range of positions within a data structure|\n",
    "|Masking|Only applicable for Numpy arrays, this refers t othe selection of values that satisfy the condition as set out in the mask within the Numpy array|"
   ]
  },
  {
   "cell_type": "markdown",
   "id": "08390dc5-ff04-408a-805c-831acc98d8df",
   "metadata": {},
   "source": [
    "# Exercise 2"
   ]
  },
  {
   "cell_type": "code",
   "execution_count": 2,
   "id": "b9dbb116-8bd9-4130-a247-5e1fa1004c64",
   "metadata": {
    "scrolled": true
   },
   "outputs": [
    {
     "data": {
      "text/plain": [
       "['A', 'C', 'E', 'G', 'I']"
      ]
     },
     "execution_count": 2,
     "metadata": {},
     "output_type": "execute_result"
    }
   ],
   "source": [
    "import numpy as np\n",
    "np_array_2d = np.array([[1, \"A\"], [3, \"C\"], [2, \"B\"], [4, \"D\"],\n",
    "                        [5, \"E\"], [7, \"G\"], [6, \"F\"], [8, \"H\"],\n",
    "                        [10, \"J\"], [9, \"I\"]])\n",
    "\n",
    "#print(np_array_2d[:, 0])\n",
    "mask = (((np_array_2d[:, 0]).astype(\"int\")) % 2 == 1)\n",
    "#print(mask)\n",
    "np_array_2d[mask][:,1].tolist()\n",
    "\n"
   ]
  },
  {
   "cell_type": "markdown",
   "id": "d4790678-8b6d-49f1-a7d9-d7a4b9b2ecf7",
   "metadata": {},
   "source": [
    "# Exercise 3"
   ]
  },
  {
   "cell_type": "code",
   "execution_count": 22,
   "id": "e2ffd78a-55cf-4ecf-a2df-424b25cda71d",
   "metadata": {},
   "outputs": [
    {
     "name": "stdout",
     "output_type": "stream",
     "text": [
      "[[ 1  0  1 -1 -1]\n",
      " [ 1 -1  1 -1 -1]\n",
      " [ 1 -1 -1  1 -1]\n",
      " [-1  1  1 -1 -1]\n",
      " [ 1 -1  1 -1  1]]\n"
     ]
    }
   ],
   "source": [
    "lst = [[66, 50, 57, -1, -1],\n",
    " [92, -1, 88, -1, -1],\n",
    " [75, -1, -1, 76, -1],\n",
    " [-1, 51, 87, -1, -1],\n",
    " [71, -1, 67, -1, 69]]\n",
    "\n",
    "np_lst = np.array(lst)\n",
    "\n",
    "mask1 = np_lst == 50\n",
    "mask2 = np_lst < 50\n",
    "mask3 = np_lst > 50\n",
    "#print(mask1)\n",
    "#print(mask2)\n",
    "#print(mask3)\n",
    "np_lst[mask1] = 0\n",
    "np_lst[mask2] = -1\n",
    "np_lst[mask3] = 1\n",
    "print(np_lst)\n",
    "\n",
    "# lst2 = lst.copy()\n",
    "\n",
    "# for inner_lst in lst2:\n",
    "#     for val in range(len(inner_lst)):\n",
    "#         if inner_lst[val] == 50:\n",
    "#             inner_lst[val] = 0\n",
    "#         elif inner_lst[val] < 50:\n",
    "#             inner_lst[val] = -1\n",
    "#         else:\n",
    "#             inner_lst[val] = 1\n",
    "\n",
    "# print(lst2)"
   ]
  }
 ],
 "metadata": {
  "kernelspec": {
   "display_name": "Python 3 (ipykernel)",
   "language": "python",
   "name": "python3"
  },
  "language_info": {
   "codemirror_mode": {
    "name": "ipython",
    "version": 3
   },
   "file_extension": ".py",
   "mimetype": "text/x-python",
   "name": "python",
   "nbconvert_exporter": "python",
   "pygments_lexer": "ipython3",
   "version": "3.12.3"
  },
  "toc": {
   "base_numbering": 1,
   "nav_menu": {},
   "number_sections": true,
   "sideBar": true,
   "skip_h1_title": false,
   "title_cell": "Table of Contents",
   "title_sidebar": "Contents",
   "toc_cell": false,
   "toc_position": {},
   "toc_section_display": true,
   "toc_window_display": false
  },
  "vscode": {
   "interpreter": {
    "hash": "31f2aee4e71d21fbe5cf8b01ff0e069b9275f58929596ceb00d14d90e3e16cd6"
   }
  }
 },
 "nbformat": 4,
 "nbformat_minor": 5
}
