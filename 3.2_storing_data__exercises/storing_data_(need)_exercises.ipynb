{
 "cells": [
  {
   "attachments": {},
   "cell_type": "markdown",
   "id": "123456",
   "metadata": {},
   "source": [
    "<div style=\"text-align:left;font-size:2em\"><span style=\"font-weight:bolder;font-size:1.25em\">SP2273 | Learning Portfolio</span><br><br><span style=\"font-weight:bold;color:darkred\">Storing Data (Need) Exercises</span></div>"
   ]
  },
  {
   "cell_type": "markdown",
   "id": "a92c1d72-490c-43dd-9987-6b62de3ea38b",
   "metadata": {},
   "source": [
    "# Exercise 1\n",
    "\n",
    "#### 2 Similarities Between Lists and Arrays\n",
    "* Both are ordered data structures whereby specific elements can be recalled using the corresponding index.\n",
    "* Both data structures are mutable, unlike tuples (which are immutable data structures).\n",
    "#### 2 Differences Between Lists and Arrays\n",
    "* Lists accept different data types as part of the same list, but Arrays can only accept one data type as part of the same array.\n",
    "* Mathematical operations on lists deals with the list. Eg for a list `[1,2,3]*3`, the output will be `[1,2,3,1,2,3,1,2,3]`. But for arrays, the operations will deal with all elements of the list. Eg for a array `[1,2,3]*3`, the output is `[3,6,9]`\n",
    "\n",
    "#### What is a dictionary?\n",
    "* A dictionary stores data in a key-value pair such that calling the key will return the corresponding stored value in the dictionary."
   ]
  },
  {
   "cell_type": "markdown",
   "id": "265a2f2a-a8ae-4cf5-9edb-0ee773688913",
   "metadata": {},
   "source": [
    "# Exercise 2"
   ]
  },
  {
   "cell_type": "code",
   "execution_count": 6,
   "id": "3bae2999-3d4c-4c4e-813f-71cbfa7b569a",
   "metadata": {},
   "outputs": [
    {
     "name": "stdout",
     "output_type": "stream",
     "text": [
      "Printed without using the function defined below\n",
      "a1\n",
      "c3\n",
      "e5\n",
      "g7\n",
      "i9\n",
      "For original list\n",
      "a1\n",
      "c3\n",
      "e5\n",
      "g7\n",
      "i9\n",
      "For py_lst_2\n",
      "b1\n",
      "c3\n",
      "d5\n",
      "g7\n",
      "i9\n",
      "For py_lst_3\n",
      "b9\n",
      "d7\n",
      "g5\n",
      "h3\n",
      "i1\n"
     ]
    }
   ],
   "source": [
    "py_lst = [\"a1\", \"b2\", \"c3\", \"d4\", \"e5\", \"f6\", \"g7\", \"h8\", \"i9\", \"j10\"]\n",
    "py_lst_2 = [\"a2\", \"b1\", \"c3\", \"d5\", \"e6\", \"f4\", \"g7\", \"h8\", \"i9\", \"j10\"]\n",
    "py_lst_3 = [\"j2\", \"i1\", \"h3\", \"g5\", \"f6\", \"e4\", \"d7\", \"c8\", \"b9\", \"a10\"]\n",
    "\n",
    "print(\"Printed without using the function defined below\")\n",
    "for i in range(0,10,2):\n",
    "    print(py_lst[i])\n",
    "\n",
    "                    # Prints 'a1'\n",
    "                    # Prints 'c3'\n",
    "                    # Prints 'e5'\n",
    "                    # Prints 'g7'\n",
    "#print(py_list[8])   # Prints 'i9'\n",
    "\n",
    "## Below portion is for a more general case where the list given is not sorted and we also want to print out the elements with odd numbers\n",
    "\n",
    "def print_odd(lst):\n",
    "    odd_lst = []\n",
    "    for item in lst:\n",
    "        number = int(item[-1]) ##This takes the last element of the string and converts it into an integer\n",
    "        if number %2 == 1: ## Since odd or even can be determined by the last digit of the integer, we do not need to know what is the actual\n",
    "                           ## number in item itself.\n",
    "            odd_lst.append(item)\n",
    "    odd_lst.sort() ## This sorts the list with odd numbers, so that we can print them in order.\n",
    "                   ## But note that this sorted list will be in order of the unicode character number of the letter at the front,\n",
    "                   ## not the numbers themselves.\n",
    "    for item in odd_lst:\n",
    "        print(item)\n",
    "print(\"For original list\")\n",
    "print_odd(py_lst)\n",
    "print(\"For py_lst_2\")\n",
    "print_odd(py_lst_2)\n",
    "print(\"For py_lst_3\")\n",
    "print_odd(py_lst_3)"
   ]
  },
  {
   "cell_type": "markdown",
   "id": "2dab6f78-5616-42aa-85d3-716d75147638",
   "metadata": {},
   "source": [
    "# Exercise 3\n"
   ]
  },
  {
   "cell_type": "code",
   "execution_count": 7,
   "id": "d169348f-553c-46da-8fb0-20764c02250d",
   "metadata": {},
   "outputs": [
    {
     "name": "stdout",
     "output_type": "stream",
     "text": [
      "Boron\n",
      "Boron\n"
     ]
    }
   ],
   "source": [
    "elements = ['Hydrogen',\n",
    "            'Helium', 'Lithium',\n",
    "            'Beryllium', 'Boron', 'Carbon',\n",
    "            'Nitrogen', 'Oxygen',\n",
    "            'Fluorine',\n",
    "            'Neon']\n",
    "\n",
    "print(elements[4])\n",
    "print(elements[-6])"
   ]
  },
  {
   "cell_type": "markdown",
   "id": "d12b873d-0233-4133-b336-61f716c91f98",
   "metadata": {},
   "source": [
    "# Exercise 4"
   ]
  },
  {
   "cell_type": "code",
   "execution_count": 30,
   "id": "aaad07a9-f2c7-4dd2-b8b8-7431f3ddc7b7",
   "metadata": {},
   "outputs": [
    {
     "name": "stdout",
     "output_type": "stream",
     "text": [
      "9\n",
      "9\n"
     ]
    }
   ],
   "source": [
    "import numpy as np\n",
    "numbers = np.array([45, 60, 1, 30, 96, 1, 96, 57, 16, 1,\n",
    "        99, 62, 86, 43, 42, 60, 59, 1, 1, 35,\n",
    "        83, 47, 34, 28, 68, 23, 22, 92, 1, 79,\n",
    "        1, 29, 94, 72, 46, 47, 1, 74, 32, 20,\n",
    "        8, 37, 35, 1, 89, 29, 86, 19, 43, 61])\n",
    "\n",
    "new_lst = (numbers == 1)\n",
    "\n",
    "\n",
    "def counter(lst):\n",
    "    count = 0\n",
    "    for i in lst:\n",
    "        if i == True:\n",
    "            count += 1\n",
    "    return count\n",
    "\n",
    "print(counter(new_lst))\n",
    "print(sum(new_lst))"
   ]
  },
  {
   "cell_type": "markdown",
   "id": "df6f4e4f-5e1d-427f-8959-21976a79b265",
   "metadata": {},
   "source": [
    "# Exercise 5"
   ]
  },
  {
   "cell_type": "code",
   "execution_count": 48,
   "id": "6cc03dc6-3d5a-4845-81d8-f6ff0932b53e",
   "metadata": {},
   "outputs": [
    {
     "name": "stdout",
     "output_type": "stream",
     "text": [
      "38.5\n",
      "302.5\n",
      "32.41990129534635\n",
      "326.0893282522444\n",
      "r value is 0.9871796626270701\n",
      "[[1.         0.98717966]\n",
      " [0.98717966 1.        ]]\n"
     ]
    }
   ],
   "source": [
    "x_1 = np.array([1, 4, 9, 16, 25, 36, 49, 64, 81, 100])\n",
    "x_2 = np.array([1, 8, 27, 64, 125, 216, 343, 512, 729, 1000])\n",
    "\n",
    "mean_x_1 = np.mean(x_1)\n",
    "mean_x_2 = np.mean(x_2)\n",
    "\n",
    "#def mean(lst):\n",
    "#    sum = 0\n",
    "#    for i in lst:\n",
    "#        sum += i\n",
    "#    return sum/len(lst)\n",
    "\n",
    "#print(mean(x_1))\n",
    "#print(mean(x_2))\n",
    "\n",
    "print(mean_x_1)\n",
    "print(mean_x_2)\n",
    "\n",
    "std_x_1 = np.std(x_1)\n",
    "std_x_2 = np.std(x_2)\n",
    "\n",
    "print(std_x_1)\n",
    "print(std_x_2)\n",
    "\n",
    "x_1_minus_mean = x_1 - mean_x_1\n",
    "x_2_minus_mean = x_2 - mean_x_2\n",
    "\n",
    "x_1_minus_mean_squared = x_1_minus_mean**2\n",
    "x_2_minus_mean_squared = x_2_minus_mean**2\n",
    "\n",
    "nominator = np.sum(x_1_minus_mean*x_2_minus_mean)\n",
    "denominator = np.sqrt(np.sum(x_1_minus_mean_squared))*\\\n",
    "              np.sqrt(np.sum(x_2_minus_mean_squared))\n",
    "\n",
    "print(\"r value is \" +str( nominator/denominator))\n",
    "## Although can use fstring but for this I will stick to \n",
    "## this method to concantate 2 strings:)\n",
    "\n",
    "print(np.corrcoef(x_1, x_2))\n",
    "\n",
    "#help(np.corrcoef)"
   ]
  }
 ],
 "metadata": {
  "kernelspec": {
   "display_name": "Python 3 (ipykernel)",
   "language": "python",
   "name": "python3"
  },
  "language_info": {
   "codemirror_mode": {
    "name": "ipython",
    "version": 3
   },
   "file_extension": ".py",
   "mimetype": "text/x-python",
   "name": "python",
   "nbconvert_exporter": "python",
   "pygments_lexer": "ipython3",
   "version": "3.12.3"
  },
  "toc": {
   "base_numbering": 1,
   "nav_menu": {},
   "number_sections": true,
   "sideBar": true,
   "skip_h1_title": false,
   "title_cell": "Table of Contents",
   "title_sidebar": "Contents",
   "toc_cell": false,
   "toc_position": {},
   "toc_section_display": true,
   "toc_window_display": false
  },
  "vscode": {
   "interpreter": {
    "hash": "31f2aee4e71d21fbe5cf8b01ff0e069b9275f58929596ceb00d14d90e3e16cd6"
   }
  }
 },
 "nbformat": 4,
 "nbformat_minor": 5
}
