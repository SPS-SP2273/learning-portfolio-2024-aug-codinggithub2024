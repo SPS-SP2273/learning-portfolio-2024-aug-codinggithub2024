{
 "cells": [
  {
   "attachments": {},
   "cell_type": "markdown",
   "id": "123456",
   "metadata": {},
   "source": [
    "<div style=\"text-align:left;font-size:2em\"><span style=\"font-weight:bolder;font-size:1.25em\">SP2273 | Learning Portfolio</span><br><br><span style=\"font-weight:bold;color:darkred\">Fundamentals (Good) Exercises</span></div>"
   ]
  },
  {
   "cell_type": "markdown",
   "id": "27d64d32-cc2b-4fbc-af9e-0ac74b691a96",
   "metadata": {},
   "source": [
    "# Exercise 1\n"
   ]
  },
  {
   "cell_type": "markdown",
   "id": "17fcb250-73b8-47fa-8834-8cc93d96416c",
   "metadata": {},
   "source": [
    "#### Task 1"
   ]
  },
  {
   "cell_type": "code",
   "execution_count": 9,
   "id": "4d8ee130-bbea-44dc-a6fd-1f509bdc3a35",
   "metadata": {},
   "outputs": [
    {
     "name": "stdin",
     "output_type": "stream",
     "text": [
      "What is your name? Teck Zhong\n"
     ]
    },
    {
     "name": "stdout",
     "output_type": "stream",
     "text": [
      "How you doin TECK ZHONG!\n"
     ]
    }
   ],
   "source": [
    "user_input = input(\"What is your name?\")\n",
    "#print(f\"How you doin \" + user_input.upper() + \"!\")\n",
    "print(f\"How you doin {user_input.upper()}!\")\n"
   ]
  },
  {
   "cell_type": "markdown",
   "id": "bbe57510-fb17-4f3c-8391-fa1777d15b24",
   "metadata": {},
   "source": [
    "#### Task 2"
   ]
  },
  {
   "cell_type": "code",
   "execution_count": 2,
   "id": "b14ab544-cdc2-4dac-80ea-98aa98fb3832",
   "metadata": {},
   "outputs": [
    {
     "name": "stdin",
     "output_type": "stream",
     "text": [
      "What is your name? teck zhong\n",
      "What is your age? 21\n"
     ]
    },
    {
     "name": "stdout",
     "output_type": "stream",
     "text": [
      "My name is TECK ZHONG and I am 21 years old.\n"
     ]
    }
   ],
   "source": [
    "name_input = input(\"What is your name?\")\n",
    "age_input = input(\"What is your age?\")\n",
    "print(f\"My name is {name_input.upper()} and I am {age_input} years old.\")"
   ]
  },
  {
   "cell_type": "markdown",
   "id": "b6f607bf-a43c-4e1c-8e15-8fa6743f3b57",
   "metadata": {},
   "source": [
    "#### Task 3"
   ]
  },
  {
   "cell_type": "code",
   "execution_count": 4,
   "id": "c16f1ea9-38eb-47af-bcc4-437763d052bd",
   "metadata": {},
   "outputs": [
    {
     "name": "stdout",
     "output_type": "stream",
     "text": [
      "The value of pi to 2 decimal places is: 3.14\n",
      "The value of pi to 2 decimal places is: 3.142\n",
      "The value of pi to 2 decimal places is: 3.1416\n"
     ]
    }
   ],
   "source": [
    "pi = 3.141592653589793\n",
    "\n",
    "print(f\"The value of pi to 2 decimal places is: {round(pi, 2)}\")\n",
    "print(f\"The value of pi to 2 decimal places is: {round(pi, 3)}\")\n",
    "print(f\"The value of pi to 2 decimal places is: {round(pi, 4)}\")\n",
    "#round(pi, 2)"
   ]
  },
  {
   "cell_type": "markdown",
   "id": "9632083d-e33a-4300-b9ad-696917ede92e",
   "metadata": {},
   "source": [
    "#### Task 4"
   ]
  },
  {
   "cell_type": "code",
   "execution_count": 6,
   "id": "ff8f1ed2-7169-410b-974f-fdcda8a7dbdf",
   "metadata": {},
   "outputs": [
    {
     "name": "stdout",
     "output_type": "stream",
     "text": [
      "Apple     $ 0.99 \n",
      "Banana    $ 0.59 \n",
      "Orange    $ 1.29\n"
     ]
    }
   ],
   "source": [
    "print(\"Apple     $ 0.99 \\nBanana    $ 0.59 \\nOrange    $ 1.29\")\n",
    "      "
   ]
  },
  {
   "cell_type": "markdown",
   "id": "ef98a67a-1077-41a7-8036-a39b2347cecf",
   "metadata": {},
   "source": [
    "# Exercise 2"
   ]
  },
  {
   "cell_type": "code",
   "execution_count": 9,
   "id": "77f19721-a4f9-4390-b962-bb4e24fdaf33",
   "metadata": {},
   "outputs": [
    {
     "name": "stdin",
     "output_type": "stream",
     "text": [
      "Enter the student's score: 75\n"
     ]
    },
    {
     "name": "stdout",
     "output_type": "stream",
     "text": [
      "The student's letter grade is: A\n"
     ]
    }
   ],
   "source": [
    "user_input = input(\"Enter the student's score:\")\n",
    "\n",
    "def grade(score):\n",
    "    int_score = int(score)\n",
    "    if 70 <= int_score <= 100:\n",
    "        return \"A\"\n",
    "    elif 50 <= int_score < 70:\n",
    "        return \"B\"\n",
    "    elif 35 <= int_score < 50:\n",
    "        return \"C\"\n",
    "    elif 0 <= int_score < 35:\n",
    "        return \"Fail\"\n",
    "    else:\n",
    "        return \"Invalid Input!\"\n",
    "\n",
    "print(f\"The student's letter grade is: {grade(user_input)}\")\n"
   ]
  },
  {
   "cell_type": "markdown",
   "id": "4337f177-32be-47a4-bf82-e3c65bdb61cd",
   "metadata": {},
   "source": [
    "# Exercise 3"
   ]
  },
  {
   "cell_type": "code",
   "execution_count": 11,
   "id": "969c7f3b-ae68-41ec-881d-c721bd47c48a",
   "metadata": {},
   "outputs": [
    {
     "name": "stdout",
     "output_type": "stream",
     "text": [
      "120\n",
      "Invalid input\n",
      "1\n",
      "1\n",
      "2\n",
      "6\n",
      "24\n",
      "120\n",
      "720\n",
      "5040\n",
      "40320\n",
      "362880\n"
     ]
    }
   ],
   "source": [
    "def factorial(n):\n",
    "    if n < 0:\n",
    "        return \"Invalid input\"\n",
    "    elif n == 0:\n",
    "        return 1\n",
    "    else:\n",
    "        result = 1\n",
    "        for number in range(1, n+1):\n",
    "            result *= number\n",
    "        return result\n",
    "print(factorial(5))\n",
    "print(factorial(-1))\n",
    "\n",
    "#for i in range(10):\n",
    "#    print(factorial(i))"
   ]
  }
 ],
 "metadata": {
  "kernelspec": {
   "display_name": "Python 3 (ipykernel)",
   "language": "python",
   "name": "python3"
  },
  "language_info": {
   "codemirror_mode": {
    "name": "ipython",
    "version": 3
   },
   "file_extension": ".py",
   "mimetype": "text/x-python",
   "name": "python",
   "nbconvert_exporter": "python",
   "pygments_lexer": "ipython3",
   "version": "3.12.3"
  },
  "toc": {
   "base_numbering": 1,
   "nav_menu": {},
   "number_sections": true,
   "sideBar": true,
   "skip_h1_title": false,
   "title_cell": "Table of Contents",
   "title_sidebar": "Contents",
   "toc_cell": false,
   "toc_position": {},
   "toc_section_display": true,
   "toc_window_display": false
  },
  "vscode": {
   "interpreter": {
    "hash": "31f2aee4e71d21fbe5cf8b01ff0e069b9275f58929596ceb00d14d90e3e16cd6"
   }
  }
 },
 "nbformat": 4,
 "nbformat_minor": 5
}
