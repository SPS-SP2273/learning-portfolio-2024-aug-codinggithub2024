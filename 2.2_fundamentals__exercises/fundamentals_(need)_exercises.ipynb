{
 "cells": [
  {
   "attachments": {},
   "cell_type": "markdown",
   "id": "123456",
   "metadata": {},
   "source": [
    "<div style=\"text-align:left;font-size:2em\"><span style=\"font-weight:bolder;font-size:1.25em\">SP2273 | Learning Portfolio</span><br><br><span style=\"font-weight:bold;color:darkred\">Fundamentals (Need) Exercises</span></div>"
   ]
  },
  {
   "cell_type": "markdown",
   "id": "21a85f52-c59d-4efb-82db-dc01a35129e8",
   "metadata": {},
   "source": [
    "# Exercise 1\n",
    "1) Functions: We can define our own function by using the function def, and we can also call built-in functions\n",
    "2) Python is an intepreted language, not a compiled language. This means that if there is a line of code that is inaccurate, but somehow there is no need to read and execute that line of code, the entire program will run as if there is no errors.\n",
    "3) Python has different data structures for the storage of data, including tuples (denoted using brackets() ), lists (denoted using square brackets []), sets (denoted using curly brackets{}) and dictionary (also denoted using {}). Between sets and dictionary, a dictionary will have a key and value, and should always be enterd into the dictionary as a key-value pair\n",
    "4) We can use hashtags to comment out parts of code that we do not want the intepreter to run\n",
    "5) For python, indentation matters. This is because python uses indentation to determine the different levels of code block (for eg is it part of the main block or part of a definition of a new function?)\n",
    "6) Python is case sensitive, which means print() is a built-in function, but Print() will need to be defined to be a valid function, or else it will raise a NameError.\n",
    "7) = is used for assignment, while == is used as a comparison between the left-hand-side and right-hand-side\n",
    "8) We use '' or \"\" to differentiate between StingType and variables. To denote a String, we enclose what we need as a string using '' or \"\".\n",
    "9) We can use if, elif, and else to allow Python to make decisions based on conditions that we want.\n",
    "10) There are multiple ways to import packages so that we can use the function.\n",
    "    * One possible way is to use `import package`\n",
    "    * another possible way is to use `from package import function`\n",
    "    * Another possible way is to use `from package import *` where * will import all functions present in the package\n",
    "    * Every method has its pros and cons; choice of which method depends on the context and requirements of the code to be written\n",
    "11) The dot (.) signifies that the function or variable after the dot belongs to the parent class, which is the function or class as stated before the dot.\n",
    "    * Usually, when we call functions using the dot, the subclass variable is only defined within the parent class, but is not directly accessible by other functions or classes. So for a code `parent.subclass()`, subclass is only accessible by first calling the parent class."
   ]
  },
  {
   "cell_type": "markdown",
   "id": "6a9ba9f0-b89f-4a7f-99ef-d2c803ee62b5",
   "metadata": {},
   "source": [
    "# Exercise 2"
   ]
  },
  {
   "cell_type": "code",
   "execution_count": 12,
   "id": "c9256e97-03a7-497e-bbd1-b86686c418c2",
   "metadata": {},
   "outputs": [
    {
     "name": "stdout",
     "output_type": "stream",
     "text": [
      "3 4 5\n"
     ]
    }
   ],
   "source": [
    "from math import sqrt\n",
    "x, y = 3, 4\n",
    "z = sqrt(x**2 + y**2)\n",
    "print(x, y, int(z))"
   ]
  },
  {
   "cell_type": "markdown",
   "id": "4073ea1b-7586-42c2-8c7d-f5fa60e7a07d",
   "metadata": {},
   "source": [
    "# Exercise 3\n"
   ]
  },
  {
   "cell_type": "markdown",
   "id": "d2b12e3a-0ed5-4f79-ad5e-218b8a20a1fd",
   "metadata": {},
   "source": [
    "|**#**|**Term**|**Description**|\n",
    "|:--:|:--:|:---|\n",
    "|1|Function|A function allow us to use python to generate the results that we want, ie ask python to do what we want it to do for us |\n",
    "|2|Arguments|Arguments are the inputs that the function needs to accept and use in order for the function to execute and return a result as defined by the function|\n",
    "|3|Comments|We use hashtag to denote comments to allow python to ignore such comments when interpreting|\n",
    "|4|Indentations|Indentations is used to allow python to understand the different levels of the bodies of code blocks|\n",
    "|5|Packages|A package can be thought of as a set of additional pre-defined functions that may be called once imported to help with writing of the code|\n",
    "|6|.|The variable before the dot represents the parent class to which the variable after the dot, the subclass, belongs to, such that the subclass is only visible within the parent class|\n",
    "|7|:|This is used to denote the start of the body of the code for the definition of the function|\n",
    "|8|`[]`|This is a 1D list data structure|\n",
    "|9|`[[],[]]`|This is a 2D list data structure|\n",
    "|10|`{}`|Depending on the input, this may be a set data structure or a dictionary data structure; either way, these are unordered data structures|"
   ]
  },
  {
   "cell_type": "markdown",
   "id": "bdbb1e0b-998d-4e6e-8ffb-ebc76ec34b4a",
   "metadata": {},
   "source": [
    "# Exercise 4\n"
   ]
  },
  {
   "cell_type": "code",
   "execution_count": 14,
   "id": "dfaab3e5-ccba-4132-af75-c48f243a34c3",
   "metadata": {},
   "outputs": [
    {
     "data": {
      "text/plain": [
       "1"
      ]
     },
     "execution_count": 14,
     "metadata": {},
     "output_type": "execute_result"
    }
   ],
   "source": [
    "5/2 #This returns the result of a division in its entirety.\n",
    "    #If the output is an integer, it returns an integer\n",
    "    #Else, it will return the output as a float\n",
    "\n",
    "5//2 #This returns the quotient of the division\n",
    "\n",
    "5%2 #this returns the remainder of the division"
   ]
  }
 ],
 "metadata": {
  "kernelspec": {
   "display_name": "Python 3 (ipykernel)",
   "language": "python",
   "name": "python3"
  },
  "language_info": {
   "codemirror_mode": {
    "name": "ipython",
    "version": 3
   },
   "file_extension": ".py",
   "mimetype": "text/x-python",
   "name": "python",
   "nbconvert_exporter": "python",
   "pygments_lexer": "ipython3",
   "version": "3.12.3"
  },
  "toc": {
   "base_numbering": 1,
   "nav_menu": {},
   "number_sections": true,
   "sideBar": true,
   "skip_h1_title": false,
   "title_cell": "Table of Contents",
   "title_sidebar": "Contents",
   "toc_cell": false,
   "toc_position": {},
   "toc_section_display": true,
   "toc_window_display": false
  },
  "vscode": {
   "interpreter": {
    "hash": "31f2aee4e71d21fbe5cf8b01ff0e069b9275f58929596ceb00d14d90e3e16cd6"
   }
  }
 },
 "nbformat": 4,
 "nbformat_minor": 5
}
